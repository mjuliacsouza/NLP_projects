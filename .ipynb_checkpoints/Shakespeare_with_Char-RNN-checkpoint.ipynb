{
 "cells": [
  {
   "cell_type": "markdown",
   "id": "021e00e9",
   "metadata": {},
   "source": [
    "# Shakespeare with Char-RNN"
   ]
  },
  {
   "cell_type": "code",
   "execution_count": 17,
   "id": "65e15c0a",
   "metadata": {},
   "outputs": [],
   "source": [
    "import tensorflow as tf\n",
    "from tensorflow import keras\n",
    "import pandas as pd\n",
    "import numpy as np"
   ]
  },
  {
   "cell_type": "markdown",
   "id": "044442ac",
   "metadata": {},
   "source": [
    "### Pegando os dados"
   ]
  },
  {
   "cell_type": "code",
   "execution_count": 2,
   "id": "6136ad60",
   "metadata": {},
   "outputs": [],
   "source": [
    "shakespeare_url = \"https://homl.info/shakespeare\"\n",
    "filepath = keras.utils.get_file(\"shakespeare.txt\", shakespeare_url)\n",
    "with open(filepath) as f:\n",
    "    shakespeare_text = f.read()"
   ]
  },
  {
   "cell_type": "code",
   "execution_count": 16,
   "id": "f4576d18",
   "metadata": {},
   "outputs": [
    {
     "data": {
      "text/plain": [
       "\"First Citizen:\\nBefore we proceed any further, hear me speak.\\n\\nAll:\\nSpeak, speak.\\n\\nFirst Citizen:\\nYou are all resolved rather to die than to famish?\\n\\nAll:\\nResolved. resolved.\\n\\nFirst Citizen:\\nFirst, you know Caius Marcius is chief enemy to the people.\\n\\nAll:\\nWe know't, we know't.\\n\\nFirst Citizen:\\nLet us kill him, and we'll have corn at our own price.\\nIs't a verdict?\\n\\nAll:\\nNo more talking on't; let it be done: away, away!\\n\\nSecond Citizen:\\nOne word, good citizens.\\n\\nFirst Citizen:\\nWe are accounted poor citizens, the patricians good.\\nWhat authority surfeits on would relieve us: if they\\nwould yield us but the superfluity, while it were\\nwholesome, we might guess they relieved us humanely;\\nbut they think we are too dear: the leanness that\\nafflicts us, the object of our misery, is as an\\ninventory to particularise their abundance; our\\nsufferance is a gain to them Let us revenge this with\\nour pikes, ere we become rakes: for the gods know I\\nspeak this in hunger for bread, not in thirst for revenge.\\n\\n\""
      ]
     },
     "execution_count": 16,
     "metadata": {},
     "output_type": "execute_result"
    }
   ],
   "source": [
    "shakespeare_text[:1000]"
   ]
  },
  {
   "cell_type": "markdown",
   "id": "c7f14602",
   "metadata": {},
   "source": [
    "### Codificação\n",
    "Codificar cada caractere (`char_level=True`) como inteiro. Além disso essa tokenização já convedrte o texto um minúscula por padrão (`lower=True`)."
   ]
  },
  {
   "cell_type": "code",
   "execution_count": 3,
   "id": "120ad107",
   "metadata": {},
   "outputs": [],
   "source": [
    "tokenizer = keras.preprocessing.text.Tokenizer(char_level=True) \n",
    "tokenizer.fit_on_texts([shakespeare_text])"
   ]
  },
  {
   "cell_type": "code",
   "execution_count": 4,
   "id": "d29af73b",
   "metadata": {},
   "outputs": [
    {
     "data": {
      "text/plain": [
       "[[20, 6, 9, 8, 3]]"
      ]
     },
     "execution_count": 4,
     "metadata": {},
     "output_type": "execute_result"
    }
   ],
   "source": [
    "tokenizer.texts_to_sequences([\"First\"])"
   ]
  },
  {
   "cell_type": "code",
   "execution_count": 5,
   "id": "8feeeb01",
   "metadata": {},
   "outputs": [
    {
     "data": {
      "text/plain": [
       "['f i r s t']"
      ]
     },
     "execution_count": 5,
     "metadata": {},
     "output_type": "execute_result"
    }
   ],
   "source": [
    "tokenizer.sequences_to_texts([[20, 6, 9, 8, 3]])"
   ]
  },
  {
   "cell_type": "code",
   "execution_count": 6,
   "id": "8c7c4aec",
   "metadata": {},
   "outputs": [
    {
     "name": "stdout",
     "output_type": "stream",
     "text": [
      "número de caracteres diferentes: 39\n"
     ]
    }
   ],
   "source": [
    "max_id = len(tokenizer.word_index)\n",
    "print(\"número de caracteres diferentes:\", max_id)"
   ]
  },
  {
   "cell_type": "code",
   "execution_count": 7,
   "id": "c271d20f",
   "metadata": {},
   "outputs": [
    {
     "name": "stdout",
     "output_type": "stream",
     "text": [
      "total de caracteres: 1\n"
     ]
    }
   ],
   "source": [
    "dataset_size = tokenizer.document_count\n",
    "print(\"total de caracteres:\", dataset_size)"
   ]
  },
  {
   "cell_type": "markdown",
   "id": "129954e5",
   "metadata": {},
   "source": [
    "### Codificando o texto completo para que cada caractere seja representado por seu ID:"
   ]
  },
  {
   "cell_type": "code",
   "execution_count": 11,
   "id": "c60b6230",
   "metadata": {},
   "outputs": [
    {
     "data": {
      "text/plain": [
       "array([19,  5,  8, ..., 20, 26, 10])"
      ]
     },
     "execution_count": 11,
     "metadata": {},
     "output_type": "execute_result"
    }
   ],
   "source": [
    "[encoded] = np.array(tokenizer.texts_to_sequences([shakespeare_text])) - 1 # subtrai 1 para obter o ID de 0 a 38 ao em vez de 1 a 39\n",
    "encoded"
   ]
  },
  {
   "cell_type": "markdown",
   "id": "d83df221",
   "metadata": {},
   "source": [
    "### Dividindo um conjunto de dados sequencial em treinamento, validação e teste.\n",
    "- em geral, é seguro dividir ao longo do tempo contanto que a série temporal seja *estacionária*, ou seja, que os padrões aprendidos sobre o passado ainda vão existir no futuro\n",
    "- muitas vezes esse não é o caso, assim vc pode representar graficamente os error do modelo no conjutno de validação ao longo do tempo, caso o modelo tenha um desempenho muito melhor na primeira parte do conjunto de validação do que na última parte, assim, a série temporal pode não ser testacionária o suficiente, e talvez seja melhor treinar o modelo num **intervalo de tempo mais curto**\n",
    "\n",
    "Vamos dividir 90% para treinamento e o resto para validação e teste."
   ]
  },
  {
   "cell_type": "code",
   "execution_count": 20,
   "id": "1fe9faf6",
   "metadata": {},
   "outputs": [
    {
     "data": {
      "text/plain": [
       "<TensorSliceDataset shapes: (), types: tf.int32>"
      ]
     },
     "execution_count": 20,
     "metadata": {},
     "output_type": "execute_result"
    }
   ],
   "source": [
    "train_size = dataset_size * 90 // 100\n",
    "dataset = tf.data.Dataset.from_tensor_slices(encoded[:train_size])\n",
    "dataset"
   ]
  },
  {
   "cell_type": "markdown",
   "id": "beaea98e",
   "metadata": {},
   "source": [
    "### Decompondo o conjunto de dados sequenial em várias janelas.\n",
    "\n",
    "Nesse ponto, o conjunto de treinamento consite em uma única sequência de mais de 1 milhão de caracteres, se treinassemos diretamente uma RNN com ele teriamos mais de 1 milhão de camadas e uma única instância muito londa para treiná-lo. Utilizando o método `window()` converteremos essa longa sequência em muitas janelas menores de texto.\n",
    "- ***retropropragação truncada ao longo do tempo*** - *backpropagation through time*"
   ]
  },
  {
   "cell_type": "code",
   "execution_count": 21,
   "id": "721ca16e",
   "metadata": {},
   "outputs": [
    {
     "data": {
      "text/plain": [
       "<WindowDataset shapes: DatasetSpec(TensorSpec(shape=(), dtype=tf.int32, name=None), TensorShape([])), types: DatasetSpec(TensorSpec(shape=(), dtype=tf.int32, name=None), TensorShape([]))>"
      ]
     },
     "execution_count": 21,
     "metadata": {},
     "output_type": "execute_result"
    }
   ],
   "source": [
    "n_steps = 100\n",
    "window_length = n_steps + 1\n",
    "dataset = dataset.window(window_length, shift=1, drop_remainder=True)\n",
    "dataset"
   ]
  },
  {
   "cell_type": "markdown",
   "id": "e7a28ab1",
   "metadata": {},
   "source": [
    "- ***n_steps***: é mais fácil treinar RNNs em sequências de entrada mais curtas, mas é claro que a RNN não será capaz de aprender nenhum padrão por mais tempo do que `n_steps`, então não é bom ser pequeno (mexer com o valor)"
   ]
  }
 ],
 "metadata": {
  "kernelspec": {
   "display_name": "Python 3",
   "language": "python",
   "name": "python3"
  },
  "language_info": {
   "codemirror_mode": {
    "name": "ipython",
    "version": 3
   },
   "file_extension": ".py",
   "mimetype": "text/x-python",
   "name": "python",
   "nbconvert_exporter": "python",
   "pygments_lexer": "ipython3",
   "version": "3.8.5"
  }
 },
 "nbformat": 4,
 "nbformat_minor": 5
}

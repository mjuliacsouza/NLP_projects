{
 "cells": [
  {
   "cell_type": "markdown",
   "id": "03763f70",
   "metadata": {},
   "source": [
    "# Shakespeare with Char-RNN"
   ]
  },
  {
   "cell_type": "code",
   "execution_count": 1,
   "id": "90ebff6d",
   "metadata": {},
   "outputs": [],
   "source": [
    "from tensorflow import keras\n",
    "import pandas as pd\n",
    "import numpy as np"
   ]
  },
  {
   "cell_type": "markdown",
   "id": "6a76ab93",
   "metadata": {},
   "source": [
    "Pegando os dados"
   ]
  },
  {
   "cell_type": "code",
   "execution_count": 6,
   "id": "8dea812f",
   "metadata": {},
   "outputs": [
    {
     "name": "stdout",
     "output_type": "stream",
     "text": [
      "Downloading data from https://homl.info/shakespeare\n",
      "1122304/1115394 [==============================] - 0s 0us/step\n"
     ]
    }
   ],
   "source": [
    "shakespeare_url = \"https://homl.info/shakespeare\"\n",
    "filepath = keras.utils.get_file(\"shakespeare.txt\", shakespeare_url)\n",
    "with open(filepath) as f:\n",
    "    shakespeare_text = f.read()"
   ]
  },
  {
   "cell_type": "markdown",
   "id": "48ba979f",
   "metadata": {},
   "source": [
    "Codificar cada caractere (`char_level=True`) como inteiro. Além disso essa tokenização já convedrte o texto um minúscula por padrão (`lower=True`)."
   ]
  },
  {
   "cell_type": "code",
   "execution_count": 12,
   "id": "5e3b6bc8",
   "metadata": {},
   "outputs": [],
   "source": [
    "tokenizer = keras.preprocessing.text.Tokenizer(char_level=True) \n",
    "tokenizer.fit_on_texts([shakespeare_text])"
   ]
  },
  {
   "cell_type": "code",
   "execution_count": null,
   "id": "5048444e",
   "metadata": {},
   "outputs": [],
   "source": []
  }
 ],
 "metadata": {
  "kernelspec": {
   "display_name": "Python 3",
   "language": "python",
   "name": "python3"
  },
  "language_info": {
   "codemirror_mode": {
    "name": "ipython",
    "version": 3
   },
   "file_extension": ".py",
   "mimetype": "text/x-python",
   "name": "python",
   "nbconvert_exporter": "python",
   "pygments_lexer": "ipython3",
   "version": "3.8.5"
  }
 },
 "nbformat": 4,
 "nbformat_minor": 5
}

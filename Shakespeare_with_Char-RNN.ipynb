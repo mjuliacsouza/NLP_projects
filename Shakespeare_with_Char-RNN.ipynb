{
 "cells": [
  {
   "cell_type": "markdown",
   "id": "34238815",
   "metadata": {},
   "source": [
    "# Shakespeare with Char-RNN"
   ]
  },
  {
   "cell_type": "code",
   "execution_count": 1,
   "id": "c00f5cac",
   "metadata": {},
   "outputs": [],
   "source": [
    "from tensorflow import keras\n",
    "import pandas as pd\n",
    "import numpy as np"
   ]
  },
  {
   "cell_type": "markdown",
   "id": "a8e6d9b5",
   "metadata": {},
   "source": [
    "Pegando os dados"
   ]
  },
  {
   "cell_type": "code",
   "execution_count": 2,
   "id": "6d50ca53",
   "metadata": {},
   "outputs": [],
   "source": [
    "shakespeare_url = \"https://homl.info/shakespeare\"\n",
    "filepath = keras.utils.get_file(\"shakespeare.txt\", shakespeare_url)\n",
    "with open(filepath) as f:\n",
    "    shakespeare_text = f.read()"
   ]
  },
  {
   "cell_type": "code",
   "execution_count": 16,
   "id": "d1123f8a",
   "metadata": {},
   "outputs": [
    {
     "data": {
      "text/plain": [
       "\"First Citizen:\\nBefore we proceed any further, hear me speak.\\n\\nAll:\\nSpeak, speak.\\n\\nFirst Citizen:\\nYou are all resolved rather to die than to famish?\\n\\nAll:\\nResolved. resolved.\\n\\nFirst Citizen:\\nFirst, you know Caius Marcius is chief enemy to the people.\\n\\nAll:\\nWe know't, we know't.\\n\\nFirst Citizen:\\nLet us kill him, and we'll have corn at our own price.\\nIs't a verdict?\\n\\nAll:\\nNo more talking on't; let it be done: away, away!\\n\\nSecond Citizen:\\nOne word, good citizens.\\n\\nFirst Citizen:\\nWe are accounted poor citizens, the patricians good.\\nWhat authority surfeits on would relieve us: if they\\nwould yield us but the superfluity, while it were\\nwholesome, we might guess they relieved us humanely;\\nbut they think we are too dear: the leanness that\\nafflicts us, the object of our misery, is as an\\ninventory to particularise their abundance; our\\nsufferance is a gain to them Let us revenge this with\\nour pikes, ere we become rakes: for the gods know I\\nspeak this in hunger for bread, not in thirst for revenge.\\n\\n\""
      ]
     },
     "execution_count": 16,
     "metadata": {},
     "output_type": "execute_result"
    }
   ],
   "source": [
    "shakespeare_text[:1000]"
   ]
  },
  {
   "cell_type": "markdown",
   "id": "09f679df",
   "metadata": {},
   "source": [
    "Codificar cada caractere (`char_level=True`) como inteiro. Além disso essa tokenização já convedrte o texto um minúscula por padrão (`lower=True`)."
   ]
  },
  {
   "cell_type": "code",
   "execution_count": 3,
   "id": "47e47db4",
   "metadata": {},
   "outputs": [],
   "source": [
    "tokenizer = keras.preprocessing.text.Tokenizer(char_level=True) \n",
    "tokenizer.fit_on_texts([shakespeare_text])"
   ]
  },
  {
   "cell_type": "code",
   "execution_count": 4,
   "id": "958fddfb",
   "metadata": {},
   "outputs": [
    {
     "data": {
      "text/plain": [
       "[[20, 6, 9, 8, 3]]"
      ]
     },
     "execution_count": 4,
     "metadata": {},
     "output_type": "execute_result"
    }
   ],
   "source": [
    "tokenizer.texts_to_sequences([\"First\"])"
   ]
  },
  {
   "cell_type": "code",
   "execution_count": 5,
   "id": "502cc65f",
   "metadata": {},
   "outputs": [
    {
     "data": {
      "text/plain": [
       "['f i r s t']"
      ]
     },
     "execution_count": 5,
     "metadata": {},
     "output_type": "execute_result"
    }
   ],
   "source": [
    "tokenizer.sequences_to_texts([[20, 6, 9, 8, 3]])"
   ]
  },
  {
   "cell_type": "code",
   "execution_count": 6,
   "id": "ec1181a7",
   "metadata": {},
   "outputs": [
    {
     "name": "stdout",
     "output_type": "stream",
     "text": [
      "número de caracteres diferentes: 39\n"
     ]
    }
   ],
   "source": [
    "max_id = len(tokenizer.word_index)\n",
    "print(\"número de caracteres diferentes:\", max_id)"
   ]
  },
  {
   "cell_type": "code",
   "execution_count": 7,
   "id": "463cc0ae",
   "metadata": {},
   "outputs": [
    {
     "name": "stdout",
     "output_type": "stream",
     "text": [
      "total de caracteres: 1\n"
     ]
    }
   ],
   "source": [
    "dataset_size = tokenizer.document_count\n",
    "print(\"total de caracteres:\", dataset_size)"
   ]
  },
  {
   "cell_type": "markdown",
   "id": "fba16b47",
   "metadata": {},
   "source": [
    "Codificando o texto completo para que cada caractere seja representado por seu ID:"
   ]
  },
  {
   "cell_type": "code",
   "execution_count": 11,
   "id": "965faaad",
   "metadata": {},
   "outputs": [
    {
     "data": {
      "text/plain": [
       "array([19,  5,  8, ..., 20, 26, 10])"
      ]
     },
     "execution_count": 11,
     "metadata": {},
     "output_type": "execute_result"
    }
   ],
   "source": [
    "[encoded] = np.array(tokenizer.texts_to_sequences([shakespeare_text])) - 1 # subtrai 1 para obter o ID de 0 a 38 ao em vez de 1 a 39\n",
    "encoded"
   ]
  },
  {
   "cell_type": "markdown",
   "id": "c4879838",
   "metadata": {},
   "source": [
    "Dividindo um conjunto de dados sequencial em treinamento, validação e teste.\n",
    "- em geral, é seguro dividir ao longo do tempo contanto que a série temporal seja *estacionária*, ou seja, que os padrões aprendidos sobre o passado ainda vão existir no futuro\n",
    "- muitas vezes esse não é o caso, assim vc pode representar graficamente os error do modelo no conjutno de validação ao longo do tempo, caso o modelo tenha um desempenho muito melhor na primeira parte do conjunto de validação do que na última parte, assim, a série temporal pode não ser testacionária o suficiente, e talvez seja melhor treinar o modelo num **intervalo de tempo mais curto**\n",
    "\n",
    "Vamos dividir 90% para treinamento e o resto para validação e teste."
   ]
  },
  {
   "cell_type": "code",
   "execution_count": 12,
   "id": "f3d66ba8",
   "metadata": {},
   "outputs": [
    {
     "ename": "NameError",
     "evalue": "name 'tf' is not defined",
     "output_type": "error",
     "traceback": [
      "\u001b[1;31m---------------------------------------------------------------------------\u001b[0m",
      "\u001b[1;31mNameError\u001b[0m                                 Traceback (most recent call last)",
      "Input \u001b[1;32mIn [12]\u001b[0m, in \u001b[0;36m<cell line: 2>\u001b[1;34m()\u001b[0m\n\u001b[0;32m      1\u001b[0m train_size \u001b[38;5;241m=\u001b[39m dataset_size \u001b[38;5;241m*\u001b[39m \u001b[38;5;241m90\u001b[39m \u001b[38;5;241m/\u001b[39m\u001b[38;5;241m/\u001b[39m \u001b[38;5;241m100\u001b[39m\n\u001b[1;32m----> 2\u001b[0m dataset \u001b[38;5;241m=\u001b[39m \u001b[43mtf\u001b[49m\u001b[38;5;241m.\u001b[39mdata\u001b[38;5;241m.\u001b[39mDataset\u001b[38;5;241m.\u001b[39mfrom_tensor_slices(encoder[:train_size])\n",
      "\u001b[1;31mNameError\u001b[0m: name 'tf' is not defined"
     ]
    }
   ],
   "source": [
    "train_size = dataset_size * 90 // 100\n",
    "dataset = tf.data.Dataset.from_tensor_slices(encoder[:train_size])"
   ]
  }
 ],
 "metadata": {
  "kernelspec": {
   "display_name": "Python 3",
   "language": "python",
   "name": "python3"
  },
  "language_info": {
   "codemirror_mode": {
    "name": "ipython",
    "version": 3
   },
   "file_extension": ".py",
   "mimetype": "text/x-python",
   "name": "python",
   "nbconvert_exporter": "python",
   "pygments_lexer": "ipython3",
   "version": "3.8.5"
  }
 },
 "nbformat": 4,
 "nbformat_minor": 5
}
